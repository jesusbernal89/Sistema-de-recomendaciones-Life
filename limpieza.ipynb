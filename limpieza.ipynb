{
  "cells": [
    {
      "cell_type": "code",
      "source": [
        "import pandas as pd\n",
        "from tqdm import tqdm\n",
        "import numpy as np\n",
        "import helper_functions\n",
        "from azureml.core import Workspace, Dataset"
      ],
      "outputs": [],
      "execution_count": 1,
      "metadata": {
        "gather": {
          "logged": 1653794087399
        }
      }
    },
    {
      "cell_type": "code",
      "source": [
        "subscription_id = '-----'\r\n",
        "resource_group = '-----'\r\n",
        "workspace_name = '------'\r\n",
        "\r\n",
        "workspace = Workspace(subscription_id, resource_group, workspace_name)"
      ],
      "outputs": [],
      "execution_count": 2,
      "metadata": {
        "gather": {
          "logged": 1653794088088
        }
      }
    },
    {
      "cell_type": "code",
      "source": [
        "def get_data(workspace, name):\r\n",
        "\r\n",
        "    dataset = Dataset.get_by_name(workspace, name=name)\r\n",
        "    return dataset.to_pandas_dataframe()"
      ],
      "outputs": [],
      "execution_count": 3,
      "metadata": {
        "jupyter": {
          "source_hidden": false,
          "outputs_hidden": false
        },
        "nteract": {
          "transient": {
            "deleting": false
          }
        },
        "gather": {
          "logged": 1653794088253
        }
      }
    },
    {
      "cell_type": "code",
      "source": [
        "enrollment_fact = get_data(workspace, 'enrollment_fact')# RELACIÓN ENTRE CURSOS, PERIODOS Y ESTUDIANTES\n",
        "course_dim = get_data(workspace, 'course_dim') # LISTA DE CURSOS EN GENERAL (ACADEMICOS Y EXTRA-ACADEMICOS)\n",
        "user_dim = get_data(workspace, 'user_dim') # LISTA DE ESTUDIANTES\n",
        "enrollment_term_dim = get_data(workspace, 'enrollment_term_dim')# LISTA DE PERIODOS \n",
        "pseudonym_dim = get_data(workspace, 'pseudonym_dim') # LISTA DE MATRICULAS\n",
        "ecoa = get_data(workspace, 'GRUPO_ECOA') # CALIFICACIONES DE ECOA\n",
        "alumno_df = get_data(workspace, 'DET_INT_ALUMNO') # RELACIÓN ESTUDIANTES CON ECOA Y MATERIAS\n",
        "cursos_life = get_data(workspace, 'DWH_MATERIAS_EXTRA_ACADEMICAS') # LISTA DE MATERIAS EXTRA ACADEMICAS\n",
        "materias_life = cursos_life.CLAVE_MATERIA.unique() # LISTA DE MATERIAS EXTRA ACADEMICAS"
      ],
      "outputs": [],
      "execution_count": 4,
      "metadata": {
        "gather": {
          "logged": 1653794102406
        }
      }
    },
    {
      "cell_type": "code",
      "source": [
        "enrollment_fact = helper_functions.int_to_str(enrollment_fact)\n",
        "course_dim = helper_functions.int_to_str(course_dim)\n",
        "user_dim = helper_functions.int_to_str(user_dim)\n",
        "enrollment_term_dim = helper_functions.int_to_str(enrollment_term_dim)\n",
        "pseudonym_dim = helper_functions.int_to_str(pseudonym_dim)\n",
        "alumno_df = helper_functions.int_to_str(alumno_df)\n",
        "cursos_life = helper_functions.int_to_str(cursos_life)"
      ],
      "outputs": [],
      "execution_count": 5,
      "metadata": {
        "gather": {
          "logged": 1653794114671
        }
      }
    },
    {
      "cell_type": "code",
      "source": [
        "# FILTRADO Y MODIFICACIÓN A COURSE_DIM\n",
        "\n",
        "course_dim.code = course_dim.code.apply(lambda x : x[:x.find('.')]) # Obtener códigos generales de las materias\n",
        "course_dim = course_dim[course_dim.code.isin(materias_life)] #HACER FILTRADO DE LAS MATERIAS QUE SOLO SON LIFE\n",
        "course_dim.rename(columns={'id':'course_id'}, inplace = True)\n",
        "course_dim = course_dim.loc[:, ['course_id','enrollment_term_id', 'name', 'code', 'start_at']] "
      ],
      "outputs": [],
      "execution_count": 6,
      "metadata": {
        "gather": {
          "logged": 1653794114875
        }
      }
    },
    {
      "cell_type": "code",
      "source": [
        "# FILTRADO Y MODIFICACIÓN A enrollment_fact\n",
        "\n",
        "enrollment_fact = enrollment_fact.loc[:, ['enrollment_id', 'user_id', 'course_id', 'enrollment_term_id']]\n",
        "enrollment_fact"
      ],
      "outputs": [
        {
          "output_type": "execute_result",
          "execution_count": 7,
          "data": {
            "text/plain": "              enrollment_id              user_id           course_id  \\\n0        143280000000018596   103729482685559320  143280000000000874   \n1        143280000000017210   369986378671339382  143280000000000874   \n2        143280000000017212   571665427533582257  143280000000000874   \n3        143280000000017216  -532628700693452303  143280000000000874   \n4        143280000000017218  -516765647756560062  143280000000000874   \n...                     ...                  ...                 ...   \n4627970  143280000003710540  -388274441878071802  143280000000204142   \n4627971  143280000003592898   311511555886490383  143280000000204342   \n4627972  143280000003598117    41939860565794830  143280000000204342   \n4627973  143280000003665067  -235574164982587329  143280000000204342   \n4627974  143280000004621516   228987686333823430  143280000000206722   \n\n         enrollment_term_id  \n0        143280000000000007  \n1        143280000000000007  \n2        143280000000000007  \n3        143280000000000007  \n4        143280000000000007  \n...                     ...  \n4627970  143280000000000141  \n4627971  143280000000000141  \n4627972  143280000000000141  \n4627973  143280000000000141  \n4627974  143280000000000144  \n\n[4627975 rows x 4 columns]",
            "text/html": "<div>\n<style scoped>\n    .dataframe tbody tr th:only-of-type {\n        vertical-align: middle;\n    }\n\n    .dataframe tbody tr th {\n        vertical-align: top;\n    }\n\n    .dataframe thead th {\n        text-align: right;\n    }\n</style>\n<table border=\"1\" class=\"dataframe\">\n  <thead>\n    <tr style=\"text-align: right;\">\n      <th></th>\n      <th>enrollment_id</th>\n      <th>user_id</th>\n      <th>course_id</th>\n      <th>enrollment_term_id</th>\n    </tr>\n  </thead>\n  <tbody>\n    <tr>\n      <th>0</th>\n      <td>143280000000018596</td>\n      <td>103729482685559320</td>\n      <td>143280000000000874</td>\n      <td>143280000000000007</td>\n    </tr>\n    <tr>\n      <th>1</th>\n      <td>143280000000017210</td>\n      <td>369986378671339382</td>\n      <td>143280000000000874</td>\n      <td>143280000000000007</td>\n    </tr>\n    <tr>\n      <th>2</th>\n      <td>143280000000017212</td>\n      <td>571665427533582257</td>\n      <td>143280000000000874</td>\n      <td>143280000000000007</td>\n    </tr>\n    <tr>\n      <th>3</th>\n      <td>143280000000017216</td>\n      <td>-532628700693452303</td>\n      <td>143280000000000874</td>\n      <td>143280000000000007</td>\n    </tr>\n    <tr>\n      <th>4</th>\n      <td>143280000000017218</td>\n      <td>-516765647756560062</td>\n      <td>143280000000000874</td>\n      <td>143280000000000007</td>\n    </tr>\n    <tr>\n      <th>...</th>\n      <td>...</td>\n      <td>...</td>\n      <td>...</td>\n      <td>...</td>\n    </tr>\n    <tr>\n      <th>4627970</th>\n      <td>143280000003710540</td>\n      <td>-388274441878071802</td>\n      <td>143280000000204142</td>\n      <td>143280000000000141</td>\n    </tr>\n    <tr>\n      <th>4627971</th>\n      <td>143280000003592898</td>\n      <td>311511555886490383</td>\n      <td>143280000000204342</td>\n      <td>143280000000000141</td>\n    </tr>\n    <tr>\n      <th>4627972</th>\n      <td>143280000003598117</td>\n      <td>41939860565794830</td>\n      <td>143280000000204342</td>\n      <td>143280000000000141</td>\n    </tr>\n    <tr>\n      <th>4627973</th>\n      <td>143280000003665067</td>\n      <td>-235574164982587329</td>\n      <td>143280000000204342</td>\n      <td>143280000000000141</td>\n    </tr>\n    <tr>\n      <th>4627974</th>\n      <td>143280000004621516</td>\n      <td>228987686333823430</td>\n      <td>143280000000206722</td>\n      <td>143280000000000144</td>\n    </tr>\n  </tbody>\n</table>\n<p>4627975 rows × 4 columns</p>\n</div>"
          },
          "metadata": {}
        }
      ],
      "execution_count": 7,
      "metadata": {
        "gather": {
          "logged": 1653794115227
        }
      }
    },
    {
      "cell_type": "code",
      "source": [
        "# FILTRADO Y MODIFICACIÓN A user_dim\n",
        "\n",
        "user_dim.rename(columns={'id':'user_id', 'name':'user_name'}, inplace = True)\n",
        "user_dim = user_dim.loc[:, ['user_id', 'user_name', 'time_zone']]"
      ],
      "outputs": [],
      "execution_count": 8,
      "metadata": {
        "gather": {
          "logged": 1653794115396
        }
      }
    },
    {
      "cell_type": "code",
      "source": [
        "# FILTRADO Y MODIFICACIÓN A user_dim\n",
        "\n",
        "pseudonym_dim.rename(columns={'unique_name':'matricula'}, inplace=True)\n",
        "pseudonym_dim = pseudonym_dim.loc[:, ['id', 'user_id', 'matricula']]"
      ],
      "outputs": [],
      "execution_count": 9,
      "metadata": {
        "gather": {
          "logged": 1653794115679
        }
      }
    },
    {
      "cell_type": "code",
      "source": [
        "\n",
        "tabla = pd.merge(enrollment_fact, course_dim, left_on=['course_id', 'enrollment_term_id' ], right_on=['course_id', 'enrollment_term_id'])\n",
        "tabla2 = pd.merge(tabla, user_dim, left_on=['user_id'], right_on=['user_id'])\n",
        "tabla3 = pd.merge(tabla2, pseudonym_dim, left_on=['user_id'], right_on=['user_id'])\n",
        "tabla3['start_at'] = tabla3['start_at'].apply(helper_functions.ddate)"
      ],
      "outputs": [],
      "execution_count": 10,
      "metadata": {
        "gather": {
          "logged": 1653794116566
        }
      }
    },
    {
      "cell_type": "code",
      "source": [
        "ecoa.CLAVE_EJER_ACAD_GRUPO = ecoa.CLAVE_EJER_ACAD_GRUPO.astype('str')"
      ],
      "outputs": [],
      "execution_count": 11,
      "metadata": {
        "gather": {
          "logged": 1653794116756
        }
      }
    },
    {
      "cell_type": "code",
      "source": [
        "final = pd.DataFrame(columns=['matricula', 'course_code', 'course_name', 'ratings'])\n",
        "\n",
        "for matricula in tqdm(tabla3.matricula.unique()[:100]):\n",
        "\n",
        "    df1 = tabla3[tabla3.matricula == matricula].loc[:, ['matricula', 'user_name', 'start_at', 'code']]\n",
        "    df2 = df1.merge(cursos_life, left_on=['code', 'start_at'], right_on=['CLAVE_MATERIA', 'CLAVE_EJERCICIO_ACADEMICO'])\n",
        "    df3 = df2.merge(alumno_df, left_on = ['CLAVE_CAMPUS', 'CLAVE_EJERCICIO_ACADEMICO', 'matricula'], \n",
        "                            right_on = ['CLAVE_CAMPUS', 'CLAVE_EJERCICIO_ACADEMICO', 'MATRICULA'])\n",
        "\n",
        "    df4 = df3.merge(ecoa, left_on = ['CLAVE_CAMPUS', 'CLAVE_EJERCICIO_ACADEMICO', 'CLAVE_MATERIA'],\n",
        "                            right_on = ['CLAVE_CAMPUS_GRUPO', 'CLAVE_EJER_ACAD_GRUPO', 'CLAVE_MATERIA'])\n",
        "\n",
        "    for c in df3.code.unique():\n",
        "        p = helper_functions.promedio_p(df4[(df4['code']==c)]['EVAL'])\n",
        "        df3.loc[(df3['code']==c), 'EVAL'] = int(p)\n",
        "\n",
        "    df3.rename(columns={'EVAL':'ratings'}, inplace= True)\n",
        "    final = pd.concat([final, df3])\n",
        "\n",
        "final = final.drop_duplicates(subset= ['matricula', 'code', 'course_name']).reset_index()\n",
        "final = final.loc[:, ['matricula', 'user_name', 'code', 'NOMBRE_MATERIA_CORTO', 'CLAVE_EJERCICIO_ACADEMICO', 'ratings']].copy()"
      ],
      "outputs": [
        {
          "output_type": "stream",
          "name": "stderr",
          "text": "100%|██████████| 100/100 [00:32<00:00,  3.10it/s]\n"
        }
      ],
      "execution_count": 12,
      "metadata": {
        "gather": {
          "logged": 1653794149005
        }
      }
    },
    {
      "cell_type": "code",
      "source": [
        "datastore = workspace.get_default_datastore()\r\n",
        "# Uploading Pandas dataframe and registering it as a dataset\r\n",
        "dataset = Dataset.Tabular.register_pandas_dataframe(\r\n",
        "    final, datastore, \"final_dataframe\", show_progress=True\r\n",
        ")"
      ],
      "outputs": [
        {
          "output_type": "stream",
          "name": "stdout",
          "text": "Validating arguments.\nArguments validated.\nSuccessfully obtained datastore reference and path.\nUploading file to managed-dataset/a44f93f7-30b4-4181-a4ad-b4fe879eed51/\nSuccessfully uploaded file to datastore.\nCreating and registering a new dataset.\nSuccessfully created and registered a new dataset.\n"
        }
      ],
      "execution_count": 13,
      "metadata": {
        "jupyter": {
          "source_hidden": false,
          "outputs_hidden": false
        },
        "nteract": {
          "transient": {
            "deleting": false
          }
        },
        "gather": {
          "logged": 1653794151166
        }
      }
    },
    {
      "cell_type": "code",
      "source": [],
      "outputs": [],
      "execution_count": null,
      "metadata": {
        "jupyter": {
          "source_hidden": false,
          "outputs_hidden": false
        },
        "nteract": {
          "transient": {
            "deleting": false
          }
        }
      }
    }
  ],
  "metadata": {
    "interpreter": {
      "hash": "fb0fcf98fd656922d0fad1864d308e4ce1efa1d7fee702141d1c2245ebccf967"
    },
    "kernelspec": {
      "name": "python3",
      "language": "python",
      "display_name": "Python 3"
    },
    "language_info": {
      "name": "python",
      "version": "3.8.5",
      "mimetype": "text/x-python",
      "codemirror_mode": {
        "name": "ipython",
        "version": 3
      },
      "pygments_lexer": "ipython3",
      "nbconvert_exporter": "python",
      "file_extension": ".py"
    },
    "orig_nbformat": 4,
    "kernel_info": {
      "name": "python3"
    },
    "microsoft": {
      "host": {
        "AzureML": {
          "notebookHasBeenCompleted": true
        }
      }
    },
    "nteract": {
      "version": "nteract-front-end@1.0.0"
    }
  },
  "nbformat": 4,
  "nbformat_minor": 2
}